{
 "cells": [
  {
   "cell_type": "markdown",
   "metadata": {},
   "source": [
    "## A basic Bert baseline using Tensorflow 2 to create predictions for the Natural Questions test set"
   ]
  },
  {
   "cell_type": "markdown",
   "metadata": {},
   "source": [
    "#### Note that this uses a model that has already been pre-trained - we're only doing inference here. A GPU is required, and this should take between 1-2 hours to run."
   ]
  },
  {
   "cell_type": "code",
   "execution_count": 1,
   "metadata": {},
   "outputs": [
    {
     "name": "stdout",
     "output_type": "stream",
     "text": [
      "1.15.0\n",
      "C:\\Users\\Einstein\\E_Drive\\question-answering\n",
      "\n",
      "./input\\sample_submission.csv\n",
      "./input\\simplified-nq-test.jsonl\n",
      "./input\\simplified-nq-train.jsonl\n"
     ]
    }
   ],
   "source": [
    "import numpy as np\n",
    "import pandas as pd\n",
    "import tensorflow as tf\n",
    "print(tf.VERSION)\n",
    "\n",
    "import os\n",
    "print(os.getcwd() + \"\\n\")\n",
    "import sys\n",
    "sys.path.insert(0, os.path.abspath('./bert/'))\n",
    "import bert_modeling as modeling\n",
    "import bert_optimization as optimization\n",
    "import bert_tokenization as tokenization\n",
    "\n",
    "# import utility script created by DimitreOliveira (https://www.kaggle.com/dimitreoliveira/tf2-0-baseline-w-bert-translated-to-tf2-0)\n",
    "import tf2_0_baseline_w_bert_translated_to_tf2_0 as tf2baseline\n",
    "\n",
    "import json\n",
    "import absl\n",
    "\n",
    "for dirname, _, filenames in os.walk('./input'):\n",
    "    for filename in filenames:\n",
    "        print(os.path.join(dirname, filename))"
   ]
  },
  {
   "cell_type": "code",
   "execution_count": null,
   "metadata": {},
   "outputs": [],
   "source": []
  }
 ],
 "metadata": {
  "kernelspec": {
   "display_name": "Python 3",
   "language": "python",
   "name": "python3"
  },
  "language_info": {
   "codemirror_mode": {
    "name": "ipython",
    "version": 3
   },
   "file_extension": ".py",
   "mimetype": "text/x-python",
   "name": "python",
   "nbconvert_exporter": "python",
   "pygments_lexer": "ipython3",
   "version": "3.7.3"
  }
 },
 "nbformat": 4,
 "nbformat_minor": 2
}
